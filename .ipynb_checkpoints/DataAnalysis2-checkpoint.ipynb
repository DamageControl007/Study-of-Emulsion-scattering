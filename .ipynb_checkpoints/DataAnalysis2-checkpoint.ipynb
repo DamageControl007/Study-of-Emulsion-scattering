{
 "cells": [
  {
   "cell_type": "code",
   "execution_count": 8,
   "id": "19fda76f",
   "metadata": {},
   "outputs": [],
   "source": [
    "import numpy as np\n",
    "import pandas as pd\n"
   ]
  },
  {
   "cell_type": "code",
   "execution_count": 35,
   "id": "dc61e248",
   "metadata": {},
   "outputs": [
    {
     "name": "stdout",
     "output_type": "stream",
     "text": [
      "Hello!\n"
     ]
    }
   ],
   "source": [
    "File='DataFile_g08_Ut10.csv'\n",
    "print(\"Hello!\")"
   ]
  },
  {
   "cell_type": "code",
   "execution_count": 36,
   "id": "82905260",
   "metadata": {},
   "outputs": [
    {
     "name": "stdout",
     "output_type": "stream",
     "text": [
      "     Unnamed: 0  Hits  0  1  2         3  4  5         6         7  ...  300  \\\n",
      "0             0    27  0  0  0  0.268983  0  0  0.329659  0.045830  ...  NaN   \n",
      "1             1     8  0  0  0  0.160650  0  0  0.250053  0.032131  ...  NaN   \n",
      "2             2    20  0  0  0  0.073615  0  0  0.075008  0.000201  ...  NaN   \n",
      "3             3     7  0  0  0  0.116211  0  0  0.582829 -0.145003  ...  NaN   \n",
      "4             4    31  0  0  0  0.006184  0  0  0.182344  0.049660  ...  NaN   \n",
      "..          ...   ... .. .. ..       ... .. ..       ...       ...  ...  ...   \n",
      "995         995    46  0  0  0  0.120596  0  0  0.213110 -0.008565  ...  NaN   \n",
      "996         996     6  0  0  0  0.235374  0  0  0.314781 -0.021683  ...  NaN   \n",
      "997         997    30  0  0  0  0.002871  0  0  0.231835  0.054881  ...  NaN   \n",
      "998         998    46  0  0  0  0.012225  0  0  0.051839 -0.005854  ...  NaN   \n",
      "999         999     5  0  0  0  0.013559  0  0  0.023991  0.005138  ...  NaN   \n",
      "\n",
      "     301  302  303  304  305  306  307  308  309  \n",
      "0    NaN  NaN  NaN  NaN  NaN  NaN  NaN  NaN  NaN  \n",
      "1    NaN  NaN  NaN  NaN  NaN  NaN  NaN  NaN  NaN  \n",
      "2    NaN  NaN  NaN  NaN  NaN  NaN  NaN  NaN  NaN  \n",
      "3    NaN  NaN  NaN  NaN  NaN  NaN  NaN  NaN  NaN  \n",
      "4    NaN  NaN  NaN  NaN  NaN  NaN  NaN  NaN  NaN  \n",
      "..   ...  ...  ...  ...  ...  ...  ...  ...  ...  \n",
      "995  NaN  NaN  NaN  NaN  NaN  NaN  NaN  NaN  NaN  \n",
      "996  NaN  NaN  NaN  NaN  NaN  NaN  NaN  NaN  NaN  \n",
      "997  NaN  NaN  NaN  NaN  NaN  NaN  NaN  NaN  NaN  \n",
      "998  NaN  NaN  NaN  NaN  NaN  NaN  NaN  NaN  NaN  \n",
      "999  NaN  NaN  NaN  NaN  NaN  NaN  NaN  NaN  NaN  \n",
      "\n",
      "[1000 rows x 312 columns]\n"
     ]
    }
   ],
   "source": [
    "df=pd.read_csv(File)\n",
    "print(df)\n",
    "df=df.to_numpy()"
   ]
  },
  {
   "cell_type": "code",
   "execution_count": 37,
   "id": "45dcce73",
   "metadata": {},
   "outputs": [
    {
     "name": "stdout",
     "output_type": "stream",
     "text": [
      "[[  0.  27.   0. ...  nan  nan  nan]\n",
      " [  1.   8.   0. ...  nan  nan  nan]\n",
      " [  2.  20.   0. ...  nan  nan  nan]\n",
      " ...\n",
      " [997.  30.   0. ...  nan  nan  nan]\n",
      " [998.  46.   0. ...  nan  nan  nan]\n",
      " [999.   5.   0. ...  nan  nan  nan]]\n"
     ]
    }
   ],
   "source": [
    "print(df)"
   ]
  },
  {
   "cell_type": "code",
   "execution_count": 38,
   "id": "6c16266a",
   "metadata": {},
   "outputs": [
    {
     "name": "stdout",
     "output_type": "stream",
     "text": [
      "1000000\n"
     ]
    }
   ],
   "source": [
    "# Assume two cases\n",
    "# Case1: Ua = 0.1\n",
    "# Case2: Ua = 0.5\n",
    "# Use beer-lambert's law for absorption\n",
    "\n",
    "tot_rows=int(1E6)\n",
    "print(tot_rows)\n",
    "# Case 1\n",
    "Ua=0.1"
   ]
  },
  {
   "cell_type": "code",
   "execution_count": 39,
   "id": "70502b0d",
   "metadata": {},
   "outputs": [
    {
     "ename": "IndexError",
     "evalue": "index 1000 is out of bounds for axis 0 with size 1000",
     "output_type": "error",
     "traceback": [
      "\u001b[0;31m---------------------------------------------------------------------------\u001b[0m",
      "\u001b[0;31mIndexError\u001b[0m                                Traceback (most recent call last)",
      "Input \u001b[0;32mIn [39]\u001b[0m, in \u001b[0;36m<cell line: 5>\u001b[0;34m()\u001b[0m\n\u001b[1;32m      2\u001b[0m path\u001b[38;5;241m=\u001b[39m\u001b[38;5;241m0\u001b[39m\n\u001b[1;32m      5\u001b[0m \u001b[38;5;28;01mfor\u001b[39;00m i \u001b[38;5;129;01min\u001b[39;00m \u001b[38;5;28mrange\u001b[39m(\u001b[38;5;241m0\u001b[39m,tot_rows):\n\u001b[0;32m----> 6\u001b[0m     hit\u001b[38;5;241m=\u001b[39m\u001b[38;5;28mint\u001b[39m(\u001b[43mdf\u001b[49m\u001b[43m[\u001b[49m\u001b[43mi\u001b[49m\u001b[43m]\u001b[49m[\u001b[38;5;241m1\u001b[39m])\n\u001b[1;32m      7\u001b[0m     w\u001b[38;5;241m=\u001b[39m\u001b[38;5;241m1\u001b[39m\n\u001b[1;32m      8\u001b[0m     \u001b[38;5;66;03m# Coordinates of origin\u001b[39;00m\n",
      "\u001b[0;31mIndexError\u001b[0m: index 1000 is out of bounds for axis 0 with size 1000"
     ]
    }
   ],
   "source": [
    "\n",
    "\n",
    "\n",
    "# Average path variable\n",
    "path=0\n",
    "\n",
    "\n",
    "for i in range(0,tot_rows):\n",
    "    hit=int(df[i][1])\n",
    "    w=1\n",
    "    # Coordinates of origin\n",
    "    X0=0\n",
    "    Y0=0\n",
    "    Z0=0\n",
    "    for j in range(hit):\n",
    "        z=df[i][5+j*3]\n",
    "        x=df[i][6+j*3]\n",
    "        y=df[i][7+j*3]\n",
    "        dist=np.sqrt((x-X0)**2 + (y - Y0)**2 + (z-Z0)**2)\n",
    "        path+=dist*w\n",
    "        #w=w*(1-Ua)\n",
    "        if (w<0.001):\n",
    "            e=random.uniform(0,1)\n",
    "            if (e<0.1):\n",
    "                w=w*10\n",
    "            else:\n",
    "                break\n",
    "        X0=x\n",
    "        Y0=y\n",
    "        Z0=z\n",
    "\n",
    "        \n",
    "    "
   ]
  },
  {
   "cell_type": "code",
   "execution_count": 25,
   "id": "066e908d",
   "metadata": {},
   "outputs": [
    {
     "name": "stdout",
     "output_type": "stream",
     "text": [
      "1.1264090871616317\n"
     ]
    }
   ],
   "source": [
    "print(path/tot_rows)"
   ]
  },
  {
   "cell_type": "code",
   "execution_count": null,
   "id": "f80f1261",
   "metadata": {},
   "outputs": [],
   "source": []
  }
 ],
 "metadata": {
  "kernelspec": {
   "display_name": "Python 3 (ipykernel)",
   "language": "python",
   "name": "python3"
  },
  "language_info": {
   "codemirror_mode": {
    "name": "ipython",
    "version": 3
   },
   "file_extension": ".py",
   "mimetype": "text/x-python",
   "name": "python",
   "nbconvert_exporter": "python",
   "pygments_lexer": "ipython3",
   "version": "3.10.4"
  }
 },
 "nbformat": 4,
 "nbformat_minor": 5
}
