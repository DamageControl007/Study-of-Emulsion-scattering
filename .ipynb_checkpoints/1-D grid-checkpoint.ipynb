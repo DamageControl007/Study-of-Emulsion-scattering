{
 "cells": [
  {
   "cell_type": "code",
   "execution_count": null,
   "id": "ef8f3c78",
   "metadata": {},
   "outputs": [],
   "source": [
    "import numpy as np\n",
    "import pandas as pd\n",
    "import matplotlib.pyplot as plt\n",
    "import random \n",
    "import math\n",
    "print(\"hello\")"
   ]
  },
  {
   "cell_type": "code",
   "execution_count": null,
   "id": "63249b27",
   "metadata": {},
   "outputs": [],
   "source": [
    "txt='DataFile_g07_Ut1.csv'\n",
    "df=pd.read_csv(txt)\n",
    "data=df.to_numpy()"
   ]
  },
  {
   "cell_type": "code",
   "execution_count": null,
   "id": "cab85c04",
   "metadata": {},
   "outputs": [],
   "source": [
    "print(data[1][0])\n",
    "print(data[1][1])\n",
    "\n",
    "grid={}\n",
    "N=100\n",
    "for i in range (0,N):\n",
    "    grid[i]=0\n",
    "print(grid)\n",
    "Lz=1\n",
    "Ua=0.001"
   ]
  },
  {
   "cell_type": "code",
   "execution_count": null,
   "id": "3e22ab53",
   "metadata": {},
   "outputs": [],
   "source": [
    "def Russian(W):\n",
    "    e=random.uniform(0,1)\n",
    "    m=10\n",
    "    if (e<1/m):\n",
    "        return W*m\n",
    "    return 0"
   ]
  },
  {
   "cell_type": "code",
   "execution_count": null,
   "id": "08ef8833",
   "metadata": {},
   "outputs": [],
   "source": [
    "def GridAbsorption(start, end, W0, Uz):\n",
    "    global grid, Ua, Lz, N\n",
    "    index=int(start)\n",
    "    dz=Lz/N\n",
    "    if (end-start>0):\n",
    "        while (index<end and W0>0.001):\n",
    "            w=W0*np.exp(-Ua*dz/Uz)\n",
    "            if (W0<0.00001):\n",
    "                    w=0\n",
    "            \n",
    "            if (math.isnan(grid[index])):\n",
    "                print(\"OMG + end-start:\", end-start)\n",
    "            grid[index]+=W0-w\n",
    "            if (math.isnan(grid[index])):\n",
    "                print(\"##\", W0, w, index, grid[index])\n",
    "                print(start, end)\n",
    "            W0=w\n",
    "            index+=1\n",
    "            if (W0<0.001):\n",
    "                W0=Russian(W0)\n",
    "    else:\n",
    "        index=int(start)-1\n",
    "        while (index>=end and W0>0.001):\n",
    "            w=W0*np.exp(-Ua*dz/Uz)\n",
    "            if (W0<0.00001):\n",
    "                    w=0\n",
    "            if (math.isnan(grid[index])):\n",
    "                print(\"OMG + end-start:\", end-start)\n",
    "            grid[index]+=W0-w\n",
    "            if (math.isnan(grid[index])):\n",
    "                print(\"##\", W0, w, index, grid[index])\n",
    "                print(start, end)\n",
    "            W0=w\n",
    "            index = index-1\n",
    "            if (W0<0.001):\n",
    "                W0=Russian(W0)\n",
    "    return W0"
   ]
  },
  {
   "cell_type": "code",
   "execution_count": null,
   "id": "47f3ce68",
   "metadata": {},
   "outputs": [],
   "source": [
    "\n",
    "for i in range(0,1000000):\n",
    "    hit=int(data[i][1])\n",
    "    for j in range(0,hit-1):\n",
    "        W0=1\n",
    "        z1=data[i][2+3*j]\n",
    "        z2=data[i][2+(j+1)*3]\n",
    "        s=np.sqrt((data[i][2+j]-data[i][2+(j+1)*3])**2 + (data[i][3+j]-data[i][3+(j+1)*3])**2 + (data[i][4+j] - data[i][4+(j+1)*3])**2)\n",
    "        Uz=abs(np.sqrt((data[i][2+j]-data[i][2+(j+1)*3])**2)/s)\n",
    "        #print(grid)\n",
    "        if (z1<z2):\n",
    "            I1=math.ceil(z1*N)\n",
    "            if (I1<0.0001):\n",
    "                I1=1\n",
    "            I2=math.floor(z2*N)\n",
    "            if (I2==100):\n",
    "                I2=99\n",
    "            if (I1<I2):\n",
    "                s_start=(I1/N-z1)/(Uz)\n",
    "                w=W0*np.exp(-Ua*s_start)\n",
    "                if (W0<0.00001):\n",
    "                    w=0\n",
    "                grid[I1-1]+=W0-w\n",
    "                W0=GridAbsorption(I1, I2, w, Uz)\n",
    "                w=W0*np.exp(-Ua*(z2-I2/N)/Uz)\n",
    "                if (W0<0.00001):\n",
    "                    w=0\n",
    "                grid[I2]+=W0-w\n",
    "                W0=w\n",
    "            elif (I1>I2):\n",
    "                w=W0*np.exp(-Ua*s)\n",
    "                if (W0<0.00001):\n",
    "                    w=0\n",
    "                grid[I2]+=W0-w\n",
    "                W0=w\n",
    "            else:\n",
    "                s_start=(I1/N-z1)/Uz\n",
    "                w=W0*np.exp(-Ua*s_start)\n",
    "                if (W0<0.00001):\n",
    "                    w=0\n",
    "                grid[I1-1]=W0-w\n",
    "                W0=w\n",
    "                w=W0*np.exp(-Ua*(s-s_start))\n",
    "                if (W0<0.00001):\n",
    "                    w=0\n",
    "                grid[I2]=W0-w\n",
    "                W0=w\n",
    "            if (W0<0.001):\n",
    "                if (Russian(W0)<0.001):\n",
    "                    break\n",
    "        elif (z1>z2):\n",
    "            I1=math.floor(z1*N)\n",
    "            if (I1==N):\n",
    "                I1=N-1\n",
    "            I2=math.ceil(z2*N)\n",
    "            if (I2<0.001):\n",
    "                I2=1\n",
    "            if (I1>I2):\n",
    "                s_start=(z1 - I1/N)/Uz\n",
    "                w=W0*np.exp(-Ua*s_start)\n",
    "                if (W0<0.00001):\n",
    "                    w=0\n",
    "                grid[I1]+=W0-w\n",
    "                W0=GridAbsorption(I1, I2, w, Uz)\n",
    "                w=W0*np.exp(-Ua*abs((I2/N-z2)/Uz))\n",
    "                if (W0<0.00001):\n",
    "                    w=0\n",
    "                grid[I2-1]+=W0-w\n",
    "                W0=w\n",
    "            elif (I2>I1):\n",
    "                w=W0*np.exp(-Ua*s)\n",
    "                if (W0<0.00001):\n",
    "                    w=0\n",
    "                grid[I1]+=W0-w\n",
    "                W0=w\n",
    "            else:\n",
    "                s_start=(z1 - I1/N)/Uz\n",
    "                w=W0*np.exp(-Ua*s_start)\n",
    "                if (W0<0.00001):\n",
    "                    w=0\n",
    "                grid[I1]+=W0-w\n",
    "                W0=w\n",
    "                w=W0*np.exp(-Ua*(s-s_start))\n",
    "                if (W0<0.00001):\n",
    "                    w=0\n",
    "                grid[I2-1]+=W0-w\n",
    "                W0=w\n",
    "            if (W0<0.001):\n",
    "                if (Russian(W0)<0.001):\n",
    "                    break\n",
    "\n",
    "for i in range (0,N):\n",
    "    grid[i]=grid[i]/1000000                   \n",
    "\n",
    "print(grid)\n",
    "\n",
    "\n",
    "\n",
    "            "
   ]
  },
  {
   "cell_type": "code",
   "execution_count": null,
   "id": "fad41b2e",
   "metadata": {},
   "outputs": [],
   "source": [
    "xx=np.linspace(0,1,N)\n",
    "yy=[]\n",
    "for i in range(0,N):\n",
    "    print(xx, yy)\n",
    "    yy.append(grid[i])\n",
    "plt.plot(xx, yy)\n",
    "plt.show()"
   ]
  },
  {
   "cell_type": "code",
   "execution_count": null,
   "id": "388326ed",
   "metadata": {},
   "outputs": [],
   "source": [
    "print(z1)\n",
    "print(data[700429][1])"
   ]
  },
  {
   "cell_type": "code",
   "execution_count": 96,
   "id": "a8b2917d",
   "metadata": {},
   "outputs": [
    {
     "name": "stdout",
     "output_type": "stream",
     "text": [
      "70\n"
     ]
    }
   ],
   "source": [
    "print(j)"
   ]
  },
  {
   "cell_type": "code",
   "execution_count": 52,
   "id": "8c9aa61f",
   "metadata": {},
   "outputs": [
    {
     "name": "stdout",
     "output_type": "stream",
     "text": [
      "187\n"
     ]
    }
   ],
   "source": [
    "print(i)"
   ]
  },
  {
   "cell_type": "code",
   "execution_count": 73,
   "id": "4cbc4cdd",
   "metadata": {},
   "outputs": [
    {
     "name": "stdout",
     "output_type": "stream",
     "text": [
      "0.7280212046237483\n"
     ]
    }
   ],
   "source": [
    "print(data[i][2 + 3*47])"
   ]
  },
  {
   "cell_type": "code",
   "execution_count": null,
   "id": "cc9f28e2",
   "metadata": {},
   "outputs": [],
   "source": []
  }
 ],
 "metadata": {
  "kernelspec": {
   "display_name": "Python 3 (ipykernel)",
   "language": "python",
   "name": "python3"
  },
  "language_info": {
   "codemirror_mode": {
    "name": "ipython",
    "version": 3
   },
   "file_extension": ".py",
   "mimetype": "text/x-python",
   "name": "python",
   "nbconvert_exporter": "python",
   "pygments_lexer": "ipython3",
   "version": "3.10.4"
  }
 },
 "nbformat": 4,
 "nbformat_minor": 5
}
