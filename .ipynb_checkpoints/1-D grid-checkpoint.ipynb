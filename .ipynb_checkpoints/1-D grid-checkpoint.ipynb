{
 "cells": [
  {
   "cell_type": "code",
   "execution_count": null,
   "id": "ef8f3c78",
   "metadata": {},
   "outputs": [],
   "source": [
    "import numpy as np\n",
    "import pandas as pd\n",
    "import matplotlib.pyplot as plt\n",
    "import random \n",
    "import math\n",
    "Lz=1\n",
    "Ua=10"
   ]
  },
  {
   "cell_type": "code",
   "execution_count": null,
   "id": "63249b27",
   "metadata": {},
   "outputs": [],
   "source": [
    "txt='DataFile_g01_Ut10.csv'\n",
    "df=pd.read_csv(txt)\n",
    "data=df.to_numpy()"
   ]
  },
  {
   "cell_type": "code",
   "execution_count": null,
   "id": "cab85c04",
   "metadata": {},
   "outputs": [],
   "source": [
    "print(data[1][0])\n",
    "print(data[1][1])\n",
    "\n",
    "grid={}\n",
    "N=100\n",
    "for i in range (0,N):\n",
    "    grid[i]=0"
   ]
  },
  {
   "cell_type": "code",
   "execution_count": null,
   "id": "3e22ab53",
   "metadata": {},
   "outputs": [],
   "source": [
    "def Russian(W):\n",
    "    e=random.uniform(0,1)\n",
    "    m=10\n",
    "    if (e<1/m):\n",
    "        return W*m\n",
    "    return 0"
   ]
  },
  {
   "cell_type": "code",
   "execution_count": null,
   "id": "08ef8833",
   "metadata": {},
   "outputs": [],
   "source": [
    "def GridAbsorption(start, end, W0, Uz):\n",
    "    global grid, Ua, Lz, N\n",
    "    Uz=abs(Uz)\n",
    "    index=int(start)\n",
    "    if (end-start>0):\n",
    "        while (index<end and W0>0.001):\n",
    "            w=W0*np.exp(-Ua*Lz/(Uz*N))\n",
    "            grid[index]+=W0-w\n",
    "            W0=w\n",
    "            index+=1\n",
    "            if (W0<0.001):\n",
    "                W0=Russian(W0)\n",
    "    else:\n",
    "        while (index>end and W0>0.001):\n",
    "            w=W0*np.exp(-Ua*Lz/(Uz*N))\n",
    "            grid[index]+=W0-w\n",
    "            W0=w\n",
    "            index-=1\n",
    "            if (W0<0.001):\n",
    "                W0=Russian(W0)\n",
    "    return W0"
   ]
  },
  {
   "cell_type": "code",
   "execution_count": null,
   "id": "b225982c",
   "metadata": {},
   "outputs": [],
   "source": [
    "print(GridAbsorption(2,9,1))"
   ]
  },
  {
   "cell_type": "code",
   "execution_count": 1,
   "id": "47f3ce68",
   "metadata": {},
   "outputs": [
    {
     "ename": "SyntaxError",
     "evalue": "expected ':' (1314497867.py, line 17)",
     "output_type": "error",
     "traceback": [
      "\u001b[0;36m  Input \u001b[0;32mIn [1]\u001b[0;36m\u001b[0m\n\u001b[0;31m    else if (I1>I2):\u001b[0m\n\u001b[0m         ^\u001b[0m\n\u001b[0;31mSyntaxError\u001b[0m\u001b[0;31m:\u001b[0m expected ':'\n"
     ]
    }
   ],
   "source": [
    "for i in range(0,1000000):\n",
    "    hit=int(data[i][1])\n",
    "    for j in range(0,hit-1):\n",
    "        W0=1\n",
    "        z1=data[i][2+j]\n",
    "        z2=data[i][2+(j+1)*3]\n",
    "        s=np.sqrt((data[i][2+j]-data[i][2+(j+1)*3])**2 + (data[i][3+j]-data[i][3+(j+1)*3])**2 + (data[i][4+j] - data[i][4+(j+1)*3])**2)\n",
    "        Uz=(np.sqrt(data[i][2+j]-data[i][2+(j+1)*3])**2)/s\n",
    "        if (z1<z2):\n",
    "            I1=math.ceil(z1*100)\n",
    "            I2=math.floor(z2*100)\n",
    "            if (I1<I2):\n",
    "                s_start=(I1/100-z1)/Uz\n",
    "                w=W0*np.exp(-Ua*s_start)\n",
    "                grid[I1-1]+=W0-w\n",
    "                W0=GridAbsorption(I1, I2, W0, Uz)\n",
    "                w=W0*np.exp(-Ua*(z2-I2/100))\n",
    "                grid[I2]+=W0-w\n",
    "                W0=w\n",
    "            elif (I1>I2):\n",
    "                w=W0*np.exp(-Ua*s)\n",
    "                grid[I2]+=W0-w\n",
    "                W0=w\n",
    "            else:\n",
    "                s_start=(I1/100-z1)/Uz\n",
    "                w=W0*np.exp(-Ua*s_start)\n",
    "                grid[I1-1]=W0-w\n",
    "                W0=w\n",
    "                w=W0*np.exp(-Ua*(s-s_start)/abs(Uz))\n",
    "                grid[I2]=W0-w\n",
    "                W0=w\n",
    "            if (W0<0.001):\n",
    "                if (Russian(W0)<0.001):\n",
    "                    break\n",
    "        elif (z1>z2):\n",
    "            I1=math.floor(z1*100)\n",
    "            I2=math.ceil(z2*100)\n",
    "            if (I1>I2):\n",
    "                s_start=(z1 - I1/100)/Uz\n",
    "                w=W0*np.exp(-Ua*s_start)\n",
    "                grid[I1]+=W0-w\n",
    "                W0=GridAbsorption(I1, I2, W0, Uz)\n",
    "                w=W0*np.exp(-Ua*(I2/100-z2)/abs(Uz))\n",
    "                grid[I2-1]+=W0-w\n",
    "                W0=w\n",
    "            elif (I2>I1):\n",
    "                w=W0*np.exp(-Ua*s)\n",
    "                grid[I2]+=W0-w\n",
    "                W0=w\n",
    "            else:\n",
    "                s_start=(z1 - I1/100)/Uz\n",
    "                w=W0*np.exp(-Ua*s_start)\n",
    "                grid[I1]+=W0-w\n",
    "                W0=w\n",
    "                w=W0*np.exp(-Ua*(s-s_start))\n",
    "                grid[I2]=W0-w\n",
    "                W0=w\n",
    "            if (W0<0.001):\n",
    "                if (Russian(W0)<0.001):\n",
    "                    break\n",
    "                \n",
    "            "
   ]
  },
  {
   "cell_type": "code",
   "execution_count": null,
   "id": "fad41b2e",
   "metadata": {},
   "outputs": [],
   "source": []
  }
 ],
 "metadata": {
  "kernelspec": {
   "display_name": "Python 3 (ipykernel)",
   "language": "python",
   "name": "python3"
  },
  "language_info": {
   "codemirror_mode": {
    "name": "ipython",
    "version": 3
   },
   "file_extension": ".py",
   "mimetype": "text/x-python",
   "name": "python",
   "nbconvert_exporter": "python",
   "pygments_lexer": "ipython3",
   "version": "3.10.4"
  }
 },
 "nbformat": 4,
 "nbformat_minor": 5
}
