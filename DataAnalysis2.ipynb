{
 "cells": [
  {
   "cell_type": "code",
   "execution_count": 16,
   "id": "19fda76f",
   "metadata": {},
   "outputs": [],
   "source": [
    "import numpy as np\n",
    "import pandas as pd\n",
    "import random\n"
   ]
  },
  {
   "cell_type": "code",
   "execution_count": 4,
   "id": "dc61e248",
   "metadata": {},
   "outputs": [
    {
     "name": "stdout",
     "output_type": "stream",
     "text": [
      "Hello!\n"
     ]
    }
   ],
   "source": [
    "File='DataFile_g01_Ut10.csv'\n",
    "print(\"Hello!\")"
   ]
  },
  {
   "cell_type": "code",
   "execution_count": 5,
   "id": "82905260",
   "metadata": {},
   "outputs": [
    {
     "name": "stdout",
     "output_type": "stream",
     "text": [
      "        Unnamed: 0  Hits  0  1  2         3  4  5         6         7  ...  \\\n",
      "0                0     5  0  0  0  0.027744  0  0  0.006047  0.005956  ...   \n",
      "1                1    29  0  0  0  0.071582  0  0  0.095274  0.028900  ...   \n",
      "2                2    13  0  0  0  0.244423  0  0  0.270753  0.071283  ...   \n",
      "3                3     9  0  0  0  0.041227  0  0  0.056429  0.016169  ...   \n",
      "4                4     3  0  0  0  0.020055  0  0  0.036089  0.017066  ...   \n",
      "...            ...   ... .. .. ..       ... .. ..       ...       ...  ...   \n",
      "999995      999995     2  0  0  0  0.024358  0  0  0.000000  0.036355  ...   \n",
      "999996      999996     6  0  0  0  0.081873  0  0  0.142739 -0.036384  ...   \n",
      "999997      999997    39  0  0  0  0.176136  0  0  0.184779  0.003571  ...   \n",
      "999998      999998     5  0  0  0  0.083927  0  0  0.090642 -0.024572  ...   \n",
      "999999      999999     4  0  0  0  0.052948  0  0  0.063310 -0.034069  ...   \n",
      "\n",
      "        300  301  302  303  304  305  306  307  308  309  \n",
      "0       NaN  NaN  NaN  NaN  NaN  NaN  NaN  NaN  NaN  NaN  \n",
      "1       NaN  NaN  NaN  NaN  NaN  NaN  NaN  NaN  NaN  NaN  \n",
      "2       NaN  NaN  NaN  NaN  NaN  NaN  NaN  NaN  NaN  NaN  \n",
      "3       NaN  NaN  NaN  NaN  NaN  NaN  NaN  NaN  NaN  NaN  \n",
      "4       NaN  NaN  NaN  NaN  NaN  NaN  NaN  NaN  NaN  NaN  \n",
      "...     ...  ...  ...  ...  ...  ...  ...  ...  ...  ...  \n",
      "999995  NaN  NaN  NaN  NaN  NaN  NaN  NaN  NaN  NaN  NaN  \n",
      "999996  NaN  NaN  NaN  NaN  NaN  NaN  NaN  NaN  NaN  NaN  \n",
      "999997  NaN  NaN  NaN  NaN  NaN  NaN  NaN  NaN  NaN  NaN  \n",
      "999998  NaN  NaN  NaN  NaN  NaN  NaN  NaN  NaN  NaN  NaN  \n",
      "999999  NaN  NaN  NaN  NaN  NaN  NaN  NaN  NaN  NaN  NaN  \n",
      "\n",
      "[1000000 rows x 312 columns]\n"
     ]
    }
   ],
   "source": [
    "df=pd.read_csv(File)\n",
    "print(df)\n",
    "df=df.to_numpy()"
   ]
  },
  {
   "cell_type": "code",
   "execution_count": 6,
   "id": "45dcce73",
   "metadata": {},
   "outputs": [
    {
     "name": "stdout",
     "output_type": "stream",
     "text": [
      "[[0.00000e+00 5.00000e+00 0.00000e+00 ...         nan         nan\n",
      "          nan]\n",
      " [1.00000e+00 2.90000e+01 0.00000e+00 ...         nan         nan\n",
      "          nan]\n",
      " [2.00000e+00 1.30000e+01 0.00000e+00 ...         nan         nan\n",
      "          nan]\n",
      " ...\n",
      " [9.99997e+05 3.90000e+01 0.00000e+00 ...         nan         nan\n",
      "          nan]\n",
      " [9.99998e+05 5.00000e+00 0.00000e+00 ...         nan         nan\n",
      "          nan]\n",
      " [9.99999e+05 4.00000e+00 0.00000e+00 ...         nan         nan\n",
      "          nan]]\n"
     ]
    }
   ],
   "source": [
    "print(df)"
   ]
  },
  {
   "cell_type": "code",
   "execution_count": 7,
   "id": "6c16266a",
   "metadata": {},
   "outputs": [
    {
     "name": "stdout",
     "output_type": "stream",
     "text": [
      "1000000\n"
     ]
    }
   ],
   "source": [
    "# Assume two cases\n",
    "# Case1: Ua = 0.1\n",
    "# Case2: Ua = 0.5\n",
    "# Use beer-lambert's law for absorption\n",
    "\n",
    "tot_rows=int(1E6)\n",
    "print(tot_rows)\n",
    "# Case 1\n",
    "Ua=0.1"
   ]
  },
  {
   "cell_type": "code",
   "execution_count": 17,
   "id": "70502b0d",
   "metadata": {},
   "outputs": [
    {
     "name": "stdout",
     "output_type": "stream",
     "text": [
      "0.0\n",
      "1.0\n",
      "2.0\n",
      "3.0\n",
      "4.0\n",
      "5.0\n",
      "6.0\n",
      "7.0\n",
      "8.0\n",
      "9.0\n",
      "10.0\n",
      "11.0\n",
      "12.0\n",
      "13.0\n",
      "14.0\n",
      "15.0\n",
      "16.0\n",
      "17.0\n",
      "18.0\n",
      "19.0\n",
      "20.0\n",
      "21.0\n",
      "22.0\n",
      "23.0\n",
      "24.0\n",
      "25.0\n",
      "26.0\n",
      "27.0\n",
      "28.0\n",
      "29.0\n",
      "30.0\n",
      "31.0\n",
      "32.0\n",
      "33.0\n",
      "34.0\n",
      "35.0\n",
      "36.0\n",
      "37.0\n",
      "38.0\n",
      "39.0\n",
      "40.0\n",
      "41.0\n",
      "42.0\n",
      "43.0\n",
      "44.0\n",
      "45.0\n",
      "46.0\n",
      "47.0\n",
      "48.0\n",
      "49.0\n",
      "50.0\n",
      "51.0\n",
      "52.0\n",
      "53.0\n",
      "54.0\n",
      "55.0\n",
      "56.0\n",
      "57.0\n",
      "58.0\n",
      "59.0\n",
      "60.0\n",
      "61.0\n",
      "62.0\n",
      "63.0\n",
      "64.0\n",
      "65.0\n",
      "66.0\n",
      "67.0\n",
      "68.0\n",
      "69.0\n",
      "70.0\n",
      "71.0\n",
      "72.0\n",
      "73.0\n",
      "74.0\n",
      "75.0\n",
      "76.0\n",
      "77.0\n",
      "78.0\n",
      "79.0\n",
      "80.0\n",
      "81.0\n",
      "82.0\n",
      "83.0\n",
      "84.0\n",
      "85.0\n",
      "86.0\n",
      "87.0\n",
      "88.0\n",
      "89.0\n",
      "90.0\n",
      "91.0\n",
      "92.0\n",
      "93.0\n",
      "94.0\n",
      "95.0\n",
      "96.0\n",
      "97.0\n",
      "98.0\n",
      "99.0\n"
     ]
    }
   ],
   "source": [
    "\n",
    "\n",
    "\n",
    "# Average path variable\n",
    "path=0\n",
    "\n",
    "\n",
    "for i in range(0,tot_rows):\n",
    "    if (i%10000==0):\n",
    "        print(i*100/tot_rows)\n",
    "    \n",
    "    hit=int(df[i][1])\n",
    "    w=1\n",
    "    # Coordinates of origin\n",
    "    X0=0\n",
    "    Y0=0\n",
    "    Z0=0\n",
    "    for j in range(hit):\n",
    "        z=df[i][5+j*3]\n",
    "        x=df[i][6+j*3]\n",
    "        y=df[i][7+j*3]\n",
    "        dist=np.sqrt((x-X0)**2 + (y - Y0)**2 + (z-Z0)**2)\n",
    "        path+=dist*w\n",
    "        w=w*(1-Ua)\n",
    "        if (w<0.001):\n",
    "            e=random.uniform(0,1)\n",
    "            if (e<0.1):\n",
    "                w=w*10\n",
    "            else:\n",
    "                break\n",
    "        X0=x\n",
    "        Y0=y\n",
    "        Z0=z\n",
    "\n",
    "        \n",
    "    "
   ]
  },
  {
   "cell_type": "code",
   "execution_count": 18,
   "id": "066e908d",
   "metadata": {},
   "outputs": [
    {
     "name": "stdout",
     "output_type": "stream",
     "text": [
      "0.599706590054946\n"
     ]
    }
   ],
   "source": [
    "print(path/tot_rows)"
   ]
  },
  {
   "cell_type": "code",
   "execution_count": null,
   "id": "f80f1261",
   "metadata": {},
   "outputs": [],
   "source": []
  }
 ],
 "metadata": {
  "kernelspec": {
   "display_name": "Python 3 (ipykernel)",
   "language": "python",
   "name": "python3"
  },
  "language_info": {
   "codemirror_mode": {
    "name": "ipython",
    "version": 3
   },
   "file_extension": ".py",
   "mimetype": "text/x-python",
   "name": "python",
   "nbconvert_exporter": "python",
   "pygments_lexer": "ipython3",
   "version": "3.10.4"
  }
 },
 "nbformat": 4,
 "nbformat_minor": 5
}
