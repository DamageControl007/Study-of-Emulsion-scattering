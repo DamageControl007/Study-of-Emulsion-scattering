{
 "cells": [
  {
   "cell_type": "code",
   "execution_count": 144,
   "id": "ef8f3c78",
   "metadata": {},
   "outputs": [
    {
     "name": "stdout",
     "output_type": "stream",
     "text": [
      "hello\n"
     ]
    }
   ],
   "source": [
    "import numpy as np\n",
    "import pandas as pd\n",
    "import matplotlib.pyplot as plt\n",
    "import random \n",
    "import math\n",
    "print(\"hello\")"
   ]
  },
  {
   "cell_type": "code",
   "execution_count": 145,
   "id": "63249b27",
   "metadata": {},
   "outputs": [],
   "source": [
    "txt='DataFile_g07_Ut1.csv'\n",
    "df=pd.read_csv(txt)\n",
    "data=df.to_numpy()"
   ]
  },
  {
   "cell_type": "code",
   "execution_count": 146,
   "id": "cab85c04",
   "metadata": {},
   "outputs": [
    {
     "name": "stdout",
     "output_type": "stream",
     "text": [
      "1.0\n",
      "2.0\n",
      "{0: 0, 1: 0, 2: 0, 3: 0, 4: 0, 5: 0, 6: 0, 7: 0, 8: 0, 9: 0, 10: 0, 11: 0, 12: 0, 13: 0, 14: 0, 15: 0, 16: 0, 17: 0, 18: 0, 19: 0, 20: 0, 21: 0, 22: 0, 23: 0, 24: 0, 25: 0, 26: 0, 27: 0, 28: 0, 29: 0, 30: 0, 31: 0, 32: 0, 33: 0, 34: 0, 35: 0, 36: 0, 37: 0, 38: 0, 39: 0, 40: 0, 41: 0, 42: 0, 43: 0, 44: 0, 45: 0, 46: 0, 47: 0, 48: 0, 49: 0, 50: 0, 51: 0, 52: 0, 53: 0, 54: 0, 55: 0, 56: 0, 57: 0, 58: 0, 59: 0, 60: 0, 61: 0, 62: 0, 63: 0, 64: 0, 65: 0, 66: 0, 67: 0, 68: 0, 69: 0, 70: 0, 71: 0, 72: 0, 73: 0, 74: 0, 75: 0, 76: 0, 77: 0, 78: 0, 79: 0, 80: 0, 81: 0, 82: 0, 83: 0, 84: 0, 85: 0, 86: 0, 87: 0, 88: 0, 89: 0, 90: 0, 91: 0, 92: 0, 93: 0, 94: 0, 95: 0, 96: 0, 97: 0, 98: 0, 99: 0}\n"
     ]
    }
   ],
   "source": [
    "print(data[1][0])\n",
    "print(data[1][1])\n",
    "\n",
    "grid={}\n",
    "N=100\n",
    "for i in range (0,N):\n",
    "    grid[i]=0\n",
    "print(grid)\n",
    "Lz=1\n",
    "Ua=0.001"
   ]
  },
  {
   "cell_type": "code",
   "execution_count": 147,
   "id": "3e22ab53",
   "metadata": {},
   "outputs": [],
   "source": [
    "def Russian(W):\n",
    "    e=random.uniform(0,1)\n",
    "    m=10\n",
    "    if (e<1/m):\n",
    "        return W*m\n",
    "    return 0"
   ]
  },
  {
   "cell_type": "code",
   "execution_count": 148,
   "id": "08ef8833",
   "metadata": {},
   "outputs": [],
   "source": [
    "def GridAbsorption(start, end, W0, Uz):\n",
    "    global grid, Ua, Lz, N\n",
    "    index=int(start)\n",
    "    dz=Lz/N\n",
    "    if (end-start>0):\n",
    "        while (index<end and W0>0.001):\n",
    "            w=W0*np.exp(-Ua*dz/Uz)\n",
    "            if (W0<0.00001):\n",
    "                    w=0\n",
    "            \n",
    "            if (math.isnan(grid[index])):\n",
    "                print(\"OMG + end-start:\", end-start)\n",
    "            grid[index]+=W0-w\n",
    "            if (math.isnan(grid[index])):\n",
    "                print(\"##\", W0, w, index, grid[index])\n",
    "                print(start, end)\n",
    "            W0=w\n",
    "            index+=1\n",
    "            if (W0<0.001):\n",
    "                W0=Russian(W0)\n",
    "    else:\n",
    "        index=int(start)-1\n",
    "        while (index>=end and W0>0.001):\n",
    "            w=W0*np.exp(-Ua*dz/Uz)\n",
    "            if (W0<0.00001):\n",
    "                    w=0\n",
    "            if (math.isnan(grid[index])):\n",
    "                print(\"OMG + end-start:\", end-start)\n",
    "            grid[index]+=W0-w\n",
    "            if (math.isnan(grid[index])):\n",
    "                print(\"##\", W0, w, index, grid[index])\n",
    "                print(start, end)\n",
    "            W0=w\n",
    "            index = index-1\n",
    "            if (W0<0.001):\n",
    "                W0=Russian(W0)\n",
    "    return W0"
   ]
  },
  {
   "cell_type": "code",
   "execution_count": 152,
   "id": "47f3ce68",
   "metadata": {},
   "outputs": [
    {
     "name": "stdout",
     "output_type": "stream",
     "text": [
      "{0: 4.099979500070683e-10, 1: 4.100085444401769e-10, 2: 3.5049253528774415e-08, 3: 3.59254202616609e-08, 4: 2.3606753034808635e-08, 5: 3.774455500845986e-09, 6: 3.83403105393576e-09, 7: 9.698367810704433e-09, 8: 1.0088720015573371e-08, 9: 1.0165536766266747e-08, 10: 6.418360694424363e-09, 11: 2.8445053058101522e-11, 12: 4.0507866729488915e-11, 13: 2.481898976973662e-08, 14: 3.3579064917034886e-08, 15: 2.1782855439387294e-08, 16: 1.0327930590508739e-08, 17: 1.005426261009701e-08, 18: 1.0339369927962695e-08, 19: 5.274266544210915e-08, 20: 4.160685243716822e-09, 21: 2.0315985378737132e-09, 22: 2.0324193412220025e-09, 23: 1.077418496723459e-08, 24: 2.9095786235512676e-08, 25: 9.469557468137135e-08, 26: 6.41022357203983e-08, 27: 2.322845311581889e-08, 28: 2.3950182371949903e-08, 29: 4.828575034499527e-08, 30: 4.181718837414983e-08, 31: 1.3649175832531334e-08, 32: 2.4092497180708826e-09, 33: 2.3624001769378957e-09, 34: 4.3756868139194215e-09, 35: 4.4730644016427456e-09, 36: 1.966807034490692e-08, 37: 1.8750167165172083e-08, 38: 3.577209625390987e-09, 39: 3.681569419363928e-09, 40: 3.656731115497802e-10, 41: 3.410116030524435e-10, 42: 3.807643468658206e-08, 43: 1.287144676338836e-09, 44: 1.3130664853695517e-09, 45: 1.3361046249946162e-08, 46: 1.0134475509705142e-08, 47: 3.4063513139899195e-09, 48: 2.9237288843101393e-09, 49: 8.839964929839628e-09, 50: 4.364122633600309e-09, 51: 4.3785893603460745e-09, 52: 4.949124899081392e-09, 53: 5.202425858020332e-09, 54: 1.4171904528486379e-08, 55: 1.8037488125210998e-10, 56: 1.9328637565108052e-10, 57: 7.528245059795103e-09, 58: 7.4303508655769735e-09, 59: 2.3128824971445082e-08, 60: 8.10594599851877e-09, 61: 8.240694606253652e-09, 62: 2.1205073729532064e-08, 63: 3.8099565675792645e-08, 64: 7.513035504233989e-09, 65: 7.778852817916682e-09, 66: 2.709530543654859e-08, 67: 2.694643049650536e-08, 68: 1.0540387067135781e-08, 69: 1.1363458675004878e-08, 70: 8.700694891811911e-09, 71: 9.03255806513592e-09, 72: 1.1657712430015454e-09, 73: 1.19505752317961e-09, 74: 8.911452011743592e-09, 75: 7.478252825092291e-09, 76: 7.588179260708761e-09, 77: 1.1795936861656253e-08, 78: 1.0089801221422445e-08, 79: 1.304826761613087e-08, 80: 6.934365140485177e-10, 81: 6.297375233923486e-10, 82: 8.886098685817023e-09, 83: 2.931982644095332e-09, 84: 9.160168559091408e-10, 85: 8.516756773634393e-10, 86: 5.824402183138399e-09, 87: 3.7497472029117796e-08, 88: 3.386433104086706e-10, 89: 4.533212737436454e-10, 90: 4.2755315434623856e-09, 91: 6.888428332669227e-09, 92: 2.2993373823931853e-09, 93: 1.9498884558649675e-09, 94: 1.611300181448061e-09, 95: 5.627059633627751e-09, 96: 1.6578767372470216e-08, 97: 5.279382393755472e-09, 98: 1.52055287760966e-11, 99: 1.5172714564326561e-10}\n"
     ]
    }
   ],
   "source": [
    "\n",
    "for i in range(0,1000000):\n",
    "    hit=int(data[i][1])\n",
    "    W0=1\n",
    "    for j in range(0,hit-1):\n",
    "        z1=data[i][2+3*j]\n",
    "        z2=data[i][2+(j+1)*3]\n",
    "        s=np.sqrt((data[i][2+j*3]-data[i][2+(j+1)*3])**2 + (data[i][3+j*3]-data[i][3+(j+1)*3])**2 + (data[i][4+j*3] - data[i][4+(j+1)*3])**2)\n",
    "        Uz=abs(np.sqrt((data[i][2+3*j]-data[i][2+(j+1)*3])**2)/s)\n",
    "        #print(grid)\n",
    "        if (z1<z2):\n",
    "            I1=math.ceil(z1*N)\n",
    "            if (I1<0.0001):\n",
    "                I1=1\n",
    "            I2=math.floor(z2*N)\n",
    "            if (I2==100):\n",
    "                I2=99\n",
    "            if (I1<I2):\n",
    "                s_start=(I1/N-z1)/(Uz)\n",
    "                w=W0*np.exp(-Ua*s_start)\n",
    "                if (W0<0.00001):\n",
    "                    w=0\n",
    "                grid[I1-1]+=W0-w\n",
    "                W0=GridAbsorption(I1, I2, w, Uz)\n",
    "                w=W0*np.exp(-Ua*(z2-I2/N)/Uz)\n",
    "                if (W0<0.00001):\n",
    "                    w=0\n",
    "                grid[I2]+=W0-w\n",
    "                W0=w\n",
    "            elif (I1>I2):\n",
    "                w=W0*np.exp(-Ua*s)\n",
    "                if (W0<0.00001):\n",
    "                    w=0\n",
    "                grid[I2]+=W0-w\n",
    "                W0=w\n",
    "            else:\n",
    "                s_start=(I1/N-z1)/Uz\n",
    "                w=W0*np.exp(-Ua*s_start)\n",
    "                if (W0<0.00001):\n",
    "                    w=0\n",
    "                grid[I1-1]=W0-w\n",
    "                W0=w\n",
    "                w=W0*np.exp(-Ua*(s-s_start))\n",
    "                if (W0<0.00001):\n",
    "                    w=0\n",
    "                grid[I2]=W0-w\n",
    "                W0=w\n",
    "            if (W0<0.001):\n",
    "                if (Russian(W0)<0.001):\n",
    "                    break\n",
    "        elif (z1>z2):\n",
    "            I1=math.floor(z1*N)\n",
    "            if (I1==N):\n",
    "                I1=N-1\n",
    "            I2=math.ceil(z2*N)\n",
    "            if (I2<0.001):\n",
    "                I2=1\n",
    "            if (I1>I2):\n",
    "                s_start=(z1 - I1/N)/Uz\n",
    "                w=W0*np.exp(-Ua*s_start)\n",
    "                if (W0<0.00001):\n",
    "                    w=0\n",
    "                grid[I1]+=W0-w\n",
    "                W0=GridAbsorption(I1, I2, w, Uz)\n",
    "                w=W0*np.exp(-Ua*abs((I2/N-z2)/Uz))\n",
    "                if (W0<0.00001):\n",
    "                    w=0\n",
    "                grid[I2-1]+=W0-w\n",
    "                W0=w\n",
    "            elif (I2>I1):\n",
    "                w=W0*np.exp(-Ua*s)\n",
    "                if (W0<0.00001):\n",
    "                    w=0\n",
    "                grid[I1]+=W0-w\n",
    "                W0=w\n",
    "            else:\n",
    "                s_start=(z1 - I1/N)/Uz\n",
    "                w=W0*np.exp(-Ua*s_start)\n",
    "                if (W0<0.00001):\n",
    "                    w=0\n",
    "                grid[I1]+=W0-w\n",
    "                W0=w\n",
    "                w=W0*np.exp(-Ua*(s-s_start))\n",
    "                if (W0<0.00001):\n",
    "                    w=0\n",
    "                grid[I2-1]+=W0-w\n",
    "                W0=w\n",
    "            if (W0<0.001):\n",
    "                if (Russian(W0)<0.001):\n",
    "                    break\n",
    "\n",
    "for i in range (0,N):\n",
    "    grid[i]=grid[i]/1000000                   \n",
    "\n",
    "print(grid)\n",
    "\n",
    "\n",
    "\n",
    "            "
   ]
  },
  {
   "cell_type": "code",
   "execution_count": 153,
   "id": "fad41b2e",
   "metadata": {},
   "outputs": [
    {
     "name": "stdout",
     "output_type": "stream",
     "text": [
      "0 4.099979500070683e-10\n",
      "1 4.100085444401769e-10\n",
      "2 3.5049253528774415e-08\n",
      "3 3.59254202616609e-08\n",
      "4 2.3606753034808635e-08\n",
      "5 3.774455500845986e-09\n",
      "6 3.83403105393576e-09\n",
      "7 9.698367810704433e-09\n",
      "8 1.0088720015573371e-08\n",
      "9 1.0165536766266747e-08\n",
      "10 6.418360694424363e-09\n",
      "11 2.8445053058101522e-11\n",
      "12 4.0507866729488915e-11\n",
      "13 2.481898976973662e-08\n",
      "14 3.3579064917034886e-08\n",
      "15 2.1782855439387294e-08\n",
      "16 1.0327930590508739e-08\n",
      "17 1.005426261009701e-08\n",
      "18 1.0339369927962695e-08\n",
      "19 5.274266544210915e-08\n",
      "20 4.160685243716822e-09\n",
      "21 2.0315985378737132e-09\n",
      "22 2.0324193412220025e-09\n",
      "23 1.077418496723459e-08\n",
      "24 2.9095786235512676e-08\n",
      "25 9.469557468137135e-08\n",
      "26 6.41022357203983e-08\n",
      "27 2.322845311581889e-08\n",
      "28 2.3950182371949903e-08\n",
      "29 4.828575034499527e-08\n",
      "30 4.181718837414983e-08\n",
      "31 1.3649175832531334e-08\n",
      "32 2.4092497180708826e-09\n",
      "33 2.3624001769378957e-09\n",
      "34 4.3756868139194215e-09\n",
      "35 4.4730644016427456e-09\n",
      "36 1.966807034490692e-08\n",
      "37 1.8750167165172083e-08\n",
      "38 3.577209625390987e-09\n",
      "39 3.681569419363928e-09\n",
      "40 3.656731115497802e-10\n",
      "41 3.410116030524435e-10\n",
      "42 3.807643468658206e-08\n",
      "43 1.287144676338836e-09\n",
      "44 1.3130664853695517e-09\n",
      "45 1.3361046249946162e-08\n",
      "46 1.0134475509705142e-08\n",
      "47 3.4063513139899195e-09\n",
      "48 2.9237288843101393e-09\n",
      "49 8.839964929839628e-09\n",
      "50 4.364122633600309e-09\n",
      "51 4.3785893603460745e-09\n",
      "52 4.949124899081392e-09\n",
      "53 5.202425858020332e-09\n",
      "54 1.4171904528486379e-08\n",
      "55 1.8037488125210998e-10\n",
      "56 1.9328637565108052e-10\n",
      "57 7.528245059795103e-09\n",
      "58 7.4303508655769735e-09\n",
      "59 2.3128824971445082e-08\n",
      "60 8.10594599851877e-09\n",
      "61 8.240694606253652e-09\n",
      "62 2.1205073729532064e-08\n",
      "63 3.8099565675792645e-08\n",
      "64 7.513035504233989e-09\n",
      "65 7.778852817916682e-09\n",
      "66 2.709530543654859e-08\n",
      "67 2.694643049650536e-08\n",
      "68 1.0540387067135781e-08\n",
      "69 1.1363458675004878e-08\n",
      "70 8.700694891811911e-09\n",
      "71 9.03255806513592e-09\n",
      "72 1.1657712430015454e-09\n",
      "73 1.19505752317961e-09\n",
      "74 8.911452011743592e-09\n",
      "75 7.478252825092291e-09\n",
      "76 7.588179260708761e-09\n",
      "77 1.1795936861656253e-08\n",
      "78 1.0089801221422445e-08\n",
      "79 1.304826761613087e-08\n",
      "80 6.934365140485177e-10\n",
      "81 6.297375233923486e-10\n",
      "82 8.886098685817023e-09\n",
      "83 2.931982644095332e-09\n",
      "84 9.160168559091408e-10\n",
      "85 8.516756773634393e-10\n",
      "86 5.824402183138399e-09\n",
      "87 3.7497472029117796e-08\n",
      "88 3.386433104086706e-10\n",
      "89 4.533212737436454e-10\n",
      "90 4.2755315434623856e-09\n",
      "91 6.888428332669227e-09\n",
      "92 2.2993373823931853e-09\n",
      "93 1.9498884558649675e-09\n",
      "94 1.611300181448061e-09\n",
      "95 5.627059633627751e-09\n",
      "96 1.6578767372470216e-08\n",
      "97 5.279382393755472e-09\n",
      "98 1.52055287760966e-11\n",
      "99 1.5172714564326561e-10\n"
     ]
    },
    {
     "data": {
      "image/png": "[encoded data removed]",
      "text/plain": [
       "<Figure size 432x288 with 1 Axes>"
      ]
     },
     "metadata": {
      "needs_background": "light"
     },
     "output_type": "display_data"
    }
   ],
   "source": [
    "xx=np.linspace(0,1,N)\n",
    "yy=[]\n",
    "for i in range(0,N):\n",
    "    print(i, grid[i])\n",
    "    yy.append(grid[i])\n",
    "plt.plot(xx, yy)\n",
    "plt.show()"
   ]
  },
  {
   "cell_type": "code",
   "execution_count": null,
   "id": "388326ed",
   "metadata": {},
   "outputs": [],
   "source": [
    "print(z1)\n",
    "print(data[700429][1])"
   ]
  },
  {
   "cell_type": "code",
   "execution_count": 96,
   "id": "a8b2917d",
   "metadata": {},
   "outputs": [
    {
     "name": "stdout",
     "output_type": "stream",
     "text": [
      "70\n"
     ]
    }
   ],
   "source": [
    "print(j)"
   ]
  },
  {
   "cell_type": "code",
   "execution_count": 52,
   "id": "8c9aa61f",
   "metadata": {},
   "outputs": [
    {
     "name": "stdout",
     "output_type": "stream",
     "text": [
      "187\n"
     ]
    }
   ],
   "source": [
    "print(i)"
   ]
  },
  {
   "cell_type": "code",
   "execution_count": 73,
   "id": "4cbc4cdd",
   "metadata": {},
   "outputs": [
    {
     "name": "stdout",
     "output_type": "stream",
     "text": [
      "0.7280212046237483\n"
     ]
    }
   ],
   "source": [
    "print(data[i][2 + 3*47])"
   ]
  },
  {
   "cell_type": "code",
   "execution_count": null,
   "id": "cc9f28e2",
   "metadata": {},
   "outputs": [],
   "source": []
  }
 ],
 "metadata": {
  "kernelspec": {
   "display_name": "Python 3 (ipykernel)",
   "language": "python",
   "name": "python3"
  },
  "language_info": {
   "codemirror_mode": {
    "name": "ipython",
    "version": 3
   },
   "file_extension": ".py",
   "mimetype": "text/x-python",
   "name": "python",
   "nbconvert_exporter": "python",
   "pygments_lexer": "ipython3",
   "version": "3.10.4"
  }
 },
 "nbformat": 4,
 "nbformat_minor": 5
}
