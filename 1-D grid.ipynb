{
 "cells": [
  {
   "cell_type": "code",
   "execution_count": 9,
   "id": "ef8f3c78",
   "metadata": {},
   "outputs": [],
   "source": [
    "import numpy as np\n",
    "import pandas as pd\n",
    "import matplotlib.pyplot as plt\n",
    "import random \n",
    "import math\n",
    "Lz=1\n",
    "Ua=1"
   ]
  },
  {
   "cell_type": "code",
   "execution_count": 10,
   "id": "63249b27",
   "metadata": {},
   "outputs": [],
   "source": [
    "txt='DataFile_g01_Ut10.csv'\n",
    "df=pd.read_csv(txt)\n",
    "data=df.to_numpy()"
   ]
  },
  {
   "cell_type": "code",
   "execution_count": 44,
   "id": "cab85c04",
   "metadata": {},
   "outputs": [
    {
     "name": "stdout",
     "output_type": "stream",
     "text": [
      "1.0\n",
      "29.0\n",
      "{0: 0, 1: 0, 2: 0, 3: 0, 4: 0, 5: 0, 6: 0, 7: 0, 8: 0, 9: 0, 10: 0, 11: 0, 12: 0, 13: 0, 14: 0, 15: 0, 16: 0, 17: 0, 18: 0, 19: 0, 20: 0, 21: 0, 22: 0, 23: 0, 24: 0, 25: 0, 26: 0, 27: 0, 28: 0, 29: 0, 30: 0, 31: 0, 32: 0, 33: 0, 34: 0, 35: 0, 36: 0, 37: 0, 38: 0, 39: 0, 40: 0, 41: 0, 42: 0, 43: 0, 44: 0, 45: 0, 46: 0, 47: 0, 48: 0, 49: 0, 50: 0, 51: 0, 52: 0, 53: 0, 54: 0, 55: 0, 56: 0, 57: 0, 58: 0, 59: 0, 60: 0, 61: 0, 62: 0, 63: 0, 64: 0, 65: 0, 66: 0, 67: 0, 68: 0, 69: 0, 70: 0, 71: 0, 72: 0, 73: 0, 74: 0, 75: 0, 76: 0, 77: 0, 78: 0, 79: 0, 80: 0, 81: 0, 82: 0, 83: 0, 84: 0, 85: 0, 86: 0, 87: 0, 88: 0, 89: 0, 90: 0, 91: 0, 92: 0, 93: 0, 94: 0, 95: 0, 96: 0, 97: 0, 98: 0, 99: 0}\n"
     ]
    }
   ],
   "source": [
    "print(data[1][0])\n",
    "print(data[1][1])\n",
    "\n",
    "grid={}\n",
    "N=100\n",
    "for i in range (0,N):\n",
    "    grid[i]=0\n",
    "print(grid)"
   ]
  },
  {
   "cell_type": "code",
   "execution_count": 45,
   "id": "3e22ab53",
   "metadata": {},
   "outputs": [],
   "source": [
    "def Russian(W):\n",
    "    e=random.uniform(0,1)\n",
    "    m=10\n",
    "    if (e<1/m):\n",
    "        return W*m\n",
    "    return 0"
   ]
  },
  {
   "cell_type": "code",
   "execution_count": 46,
   "id": "08ef8833",
   "metadata": {},
   "outputs": [],
   "source": [
    "def GridAbsorption(start, end, W0, Uz):\n",
    "    global grid, Ua, Lz, N\n",
    "    Uz=abs(Uz)\n",
    "    index=int(start)\n",
    "    if (end-start>0):\n",
    "        while (index<end and W0>0.001):\n",
    "            w=W0*np.exp(-Ua*Lz/(Uz*N))\n",
    "            \n",
    "            if (w>W0):\n",
    "                print(\"OMG\")\n",
    "            if (math.isnan(grid[index])):\n",
    "                print(grid)\n",
    "            grid[index]+=W0-w\n",
    "            if (math.isnan(grid[index])):\n",
    "                print(\"##\", W0, w, index, grid[index])\n",
    "            W0=w\n",
    "            index+=1\n",
    "            if (W0<0.001):\n",
    "                W0=Russian(W0)\n",
    "    else:\n",
    "        while (index>end and W0>0.001):\n",
    "            w=W0*np.exp(-Ua*Lz/(Uz*N))\n",
    "            grid[index]+=W0-w\n",
    "            W0=w\n",
    "            index-=1\n",
    "            if (W0<0.001):\n",
    "                W0=Russian(W0)\n",
    "    return W0"
   ]
  },
  {
   "cell_type": "code",
   "execution_count": 74,
   "id": "47f3ce68",
   "metadata": {},
   "outputs": [
    {
     "name": "stdout",
     "output_type": "stream",
     "text": [
      "{0: 8.095620468698996, 1: 1.5884741376202853, 2: 5.2438552512781555, 3: 7.173368038406984, 4: 7.4971598611095, 5: 15.944687696937194, 6: 9.390965368430601, 7: 20.578503222002137, 8: 3.848929420843451, 9: 15.168049659513573, 10: 15.048182338632438, 11: 4.918829912331501, 12: 6.394947803990916, 13: 6.632091138842615, 14: 5.465588685548988, 15: 2.0568894844159673, 16: 2.8349949396699183, 17: 28.44482569183265, 18: 28.776655234157094, 19: 28.57752653569665, 20: 12.752473707956254, 21: 0.5887747992324146, 22: 0.8967017252624452, 23: 1.9914271976541527, 24: 6.864108933884713, 25: 13.640289489965724, 26: 13.700532368607668, 27: 24.75821878874018, 28: 23.711142115712605, 29: 16.226876131329774, 30: 1.1646241657604395, 31: 22.618511137812344, 32: 23.05446930506255, 33: 22.540985249624832, 34: 12.044917059219472, 35: 12.591056165125233, 36: 11.831709022313154, 37: 21.33573824239306, 38: 11.61643685306285, 39: 14.491778029749872, 40: 11.107011190315404, 41: 18.26699465178511, 42: 17.77120232537995, 43: 17.355407794664853, 44: 9.339355723842559, 45: 9.048726068648865, 46: 10.665328015614564, 47: 11.147759439780518, 48: 10.361091741739056, 49: 14.474307807811122, 50: 14.6275433046621, 51: 8.22205536708934, 52: 7.932577864474523, 53: 9.435984405018758, 54: 8.5466654010771, 55: 13.261575566634813, 56: 6.236667949830536, 57: 7.027893192295499, 58: 7.660775925621938, 59: 8.375579390370483, 60: 8.721550708075984, 61: 8.396028084704348, 62: 9.651406221552014, 63: 3.735310446026111, 64: 0.9458108233821825, 65: 1.1382685993839456, 66: 1.802907058627874, 67: 7.578900917754218, 68: 6.709515928871266, 69: 6.113458466416388, 70: 6.332276818144033, 71: 5.206392067951196, 72: 4.922422362604785, 73: 4.379794424759138, 74: 4.142341340461717, 75: 3.665706133238154, 76: 3.4743998865221917, 77: 3.4657877925398304, 78: 2.9788056536915724, 79: 2.7277607659650047, 80: 2.652697013459339, 81: 2.288324189400486, 82: 2.085937035681064, 83: 1.7186481988099203, 84: 1.5068769911116866, 85: 1.475568423381353, 86: 1.2506807348464237, 87: 1.0659310987112887, 88: 0.8905068955218549, 89: 0.7410347915860387, 90: 0.6569236131615094, 91: 0.5926485911363796, 92: 0.408725835560299, 93: 0.3427677175647468, 94: 0.28920316887713127, 95: 0.17334785045078713, 96: 0.11078864394992513, 97: 0.08360209610652361, 98: 0.039633740943089024, 99: 0.018961192471315613}\n"
     ]
    },
    {
     "ename": "KeyError",
     "evalue": "100",
     "output_type": "error",
     "traceback": [
      "\u001b[0;31m---------------------------------------------------------------------------\u001b[0m",
      "\u001b[0;31mKeyError\u001b[0m                                  Traceback (most recent call last)",
      "Input \u001b[0;32mIn [74]\u001b[0m, in \u001b[0;36m<cell line: 2>\u001b[0;34m()\u001b[0m\n\u001b[1;32m     50\u001b[0m \u001b[38;5;28;01melif\u001b[39;00m (I2\u001b[38;5;241m>\u001b[39mI1):\n\u001b[1;32m     51\u001b[0m     w\u001b[38;5;241m=\u001b[39mW0\u001b[38;5;241m*\u001b[39mnp\u001b[38;5;241m.\u001b[39mexp(\u001b[38;5;241m-\u001b[39mUa\u001b[38;5;241m*\u001b[39ms)\n\u001b[0;32m---> 52\u001b[0m     grid[I2]\u001b[38;5;241m+\u001b[39m\u001b[38;5;241m=\u001b[39mW0\u001b[38;5;241m-\u001b[39mw\n\u001b[1;32m     53\u001b[0m     W0\u001b[38;5;241m=\u001b[39mw\n\u001b[1;32m     54\u001b[0m \u001b[38;5;28;01melse\u001b[39;00m:\n",
      "\u001b[0;31mKeyError\u001b[0m: 100"
     ]
    }
   ],
   "source": [
    "\n",
    "print(grid)\n",
    "for i in range(0,1000):\n",
    "    hit=int(data[i][1])\n",
    "    for j in range(0,hit-1):\n",
    "        W0=1\n",
    "        z1=data[i][2+3*j]\n",
    "        z2=data[i][2+(j+1)*3]\n",
    "        s=np.sqrt((data[i][2+j]-data[i][2+(j+1)*3])**2 + (data[i][3+j]-data[i][3+(j+1)*3])**2 + (data[i][4+j] - data[i][4+(j+1)*3])**2)\n",
    "        Uz=abs(np.sqrt((data[i][2+j]-data[i][2+(j+1)*3])**2)/s)\n",
    "        #print(grid)\n",
    "        if (z1<z2):\n",
    "            I1=math.ceil(z1*100)\n",
    "            if (I1<0.0001):\n",
    "                I1=1\n",
    "            I2=math.floor(z2*100)\n",
    "            if (I1<I2):\n",
    "                s_start=(I1/100-z1)/(Uz)\n",
    "                w=W0*np.exp(-Ua*s_start)\n",
    "                grid[I1-1]+=W0-w\n",
    "                W0=GridAbsorption(I1, I2, W0, Uz)\n",
    "                w=W0*np.exp(-Ua*(z2-I2/100))\n",
    "                grid[I2]+=W0-w\n",
    "                W0=w\n",
    "            elif (I1>I2):\n",
    "                w=W0*np.exp(-Ua*s)\n",
    "                grid[I2]+=W0-w\n",
    "                W0=w\n",
    "            else:\n",
    "                s_start=(I1/100-z1)/Uz\n",
    "                w=W0*np.exp(-Ua*s_start)\n",
    "                grid[I1-1]=W0-w\n",
    "                W0=w\n",
    "                w=W0*np.exp(-Ua*(s-s_start)/abs(Uz))\n",
    "                grid[I2]=W0-w\n",
    "                W0=w\n",
    "            if (W0<0.001):\n",
    "                if (Russian(W0)<0.001):\n",
    "                    break\n",
    "        elif (z1>z2):\n",
    "            I1=math.floor(z1*100)\n",
    "            I2=math.ceil(z2*100)\n",
    "            if (I1>I2):\n",
    "                s_start=(z1 - I1/100)/Uz\n",
    "                w=W0*np.exp(-Ua*s_start)\n",
    "                grid[I1]+=W0-w\n",
    "                W0=GridAbsorption(I1, I2, W0, Uz)\n",
    "                w=W0*np.exp(-Ua*(I2/100-z2)/abs(Uz))\n",
    "                grid[I2-1]+=W0-w\n",
    "                W0=w\n",
    "            elif (I2>I1):\n",
    "                w=W0*np.exp(-Ua*s)\n",
    "                grid[I2]+=W0-w\n",
    "                W0=w\n",
    "            else:\n",
    "                s_start=(z1 - I1/100)/Uz\n",
    "                w=W0*np.exp(-Ua*s_start)\n",
    "                grid[I1]+=W0-w\n",
    "                W0=w\n",
    "                w=W0*np.exp(-Ua*(s-s_start))\n",
    "                grid[I2-1]=W0-w\n",
    "                W0=w\n",
    "            if (W0<0.001):\n",
    "                if (Russian(W0)<0.001):\n",
    "                    break\n",
    "\n",
    "for i in range (0,N):\n",
    "    grid[i]=grid[i]/1000                   \n",
    "\n",
    "print(grid)\n",
    "\n",
    "\n",
    "\n",
    "            "
   ]
  },
  {
   "cell_type": "code",
   "execution_count": 75,
   "id": "fad41b2e",
   "metadata": {},
   "outputs": [
    {
     "name": "stdout",
     "output_type": "stream",
     "text": [
      "99\n"
     ]
    }
   ],
   "source": [
    "print(I1)"
   ]
  },
  {
   "cell_type": "code",
   "execution_count": 50,
   "id": "388326ed",
   "metadata": {},
   "outputs": [
    {
     "name": "stdout",
     "output_type": "stream",
     "text": [
      "1.0393278947679891\n"
     ]
    }
   ],
   "source": [
    "print(z1)"
   ]
  },
  {
   "cell_type": "code",
   "execution_count": 51,
   "id": "a8b2917d",
   "metadata": {},
   "outputs": [
    {
     "name": "stdout",
     "output_type": "stream",
     "text": [
      "44\n"
     ]
    }
   ],
   "source": [
    "print(j)"
   ]
  },
  {
   "cell_type": "code",
   "execution_count": 52,
   "id": "8c9aa61f",
   "metadata": {},
   "outputs": [
    {
     "name": "stdout",
     "output_type": "stream",
     "text": [
      "187\n"
     ]
    }
   ],
   "source": [
    "print(i)"
   ]
  },
  {
   "cell_type": "code",
   "execution_count": 73,
   "id": "4cbc4cdd",
   "metadata": {},
   "outputs": [
    {
     "name": "stdout",
     "output_type": "stream",
     "text": [
      "0.7280212046237483\n"
     ]
    }
   ],
   "source": [
    "print(data[i][2 + 3*47])"
   ]
  },
  {
   "cell_type": "code",
   "execution_count": null,
   "id": "cc9f28e2",
   "metadata": {},
   "outputs": [],
   "source": []
  }
 ],
 "metadata": {
  "kernelspec": {
   "display_name": "Python 3 (ipykernel)",
   "language": "python",
   "name": "python3"
  },
  "language_info": {
   "codemirror_mode": {
    "name": "ipython",
    "version": 3
   },
   "file_extension": ".py",
   "mimetype": "text/x-python",
   "name": "python",
   "nbconvert_exporter": "python",
   "pygments_lexer": "ipython3",
   "version": "3.10.4"
  }
 },
 "nbformat": 4,
 "nbformat_minor": 5
}
